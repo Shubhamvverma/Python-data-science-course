{
 "cells": [
  {
   "cell_type": "code",
   "execution_count": 1,
   "metadata": {},
   "outputs": [
    {
     "name": "stdout",
     "output_type": "stream",
     "text": [
      "yes😘\n"
     ]
    }
   ],
   "source": [
    "x = 5\n",
    "if x > 3:\n",
    "    print(\"yes😘\")\n",
    "else:\n",
    "    print(\"no\")"
   ]
  },
  {
   "cell_type": "code",
   "execution_count": 2,
   "metadata": {},
   "outputs": [
    {
     "name": "stdout",
     "output_type": "stream",
     "text": [
      "you followed the instructions\n",
      "good job\n"
     ]
    }
   ],
   "source": [
    "a = input(\"enter a number:\")\n",
    "if a.isnumeric():\n",
    "    print(\"you followed the instructions\")\n",
    "    print(\"good job\")\n",
    "else:\n",
    "    print(\"you didn't followed the instructions\")\n",
    "    print(\"try again😒\")\n"
   ]
  },
  {
   "cell_type": "code",
   "execution_count": 7,
   "metadata": {},
   "outputs": [
    {
     "name": "stdout",
     "output_type": "stream",
     "text": [
      "your order is on its way\n"
     ]
    }
   ],
   "source": [
    "menu = [\"pizza\" , \"shikhar\" , \"jasuuuuuuuu\", \"shubh\"]\n",
    "order = input(\"what should you like to order?\")\n",
    "if order in menu:\n",
    "    print(\"your order is on its way\")\n",
    "else:\n",
    "    print(\"agle saal aana😁\")"
   ]
  }
 ],
 "metadata": {
  "kernelspec": {
   "display_name": "base",
   "language": "python",
   "name": "python3"
  },
  "language_info": {
   "codemirror_mode": {
    "name": "ipython",
    "version": 3
   },
   "file_extension": ".py",
   "mimetype": "text/x-python",
   "name": "python",
   "nbconvert_exporter": "python",
   "pygments_lexer": "ipython3",
   "version": "3.10.8"
  },
  "orig_nbformat": 4,
  "vscode": {
   "interpreter": {
    "hash": "d0fd7449a696d64d6be5b0a7741a5a287218640372c98fb4870e193aac6b26c6"
   }
  }
 },
 "nbformat": 4,
 "nbformat_minor": 2
}
